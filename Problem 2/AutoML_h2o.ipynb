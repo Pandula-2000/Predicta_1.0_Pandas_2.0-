{
  "nbformat": 4,
  "nbformat_minor": 0,
  "metadata": {
    "colab": {
      "provenance": []
    },
    "kernelspec": {
      "name": "python3",
      "display_name": "Python 3"
    },
    "language_info": {
      "name": "python"
    }
  },
  "cells": [
    {
      "cell_type": "code",
      "execution_count": null,
      "metadata": {
        "colab": {
          "base_uri": "https://localhost:8080/",
          "height": 537
        },
        "id": "31Uj0zkW2goM",
        "outputId": "56823baf-82b4-462f-f03f-c72fca8de907"
      },
      "outputs": [
        {
          "output_type": "stream",
          "name": "stdout",
          "text": [
            "Checking whether there is an H2O instance running at http://localhost:54321..... not found.\n",
            "Attempting to start a local H2O server...\n",
            "  Java Version: openjdk version \"11.0.23\" 2024-04-16; OpenJDK Runtime Environment (build 11.0.23+9-post-Ubuntu-1ubuntu122.04.1); OpenJDK 64-Bit Server VM (build 11.0.23+9-post-Ubuntu-1ubuntu122.04.1, mixed mode, sharing)\n",
            "  Starting server from /usr/local/lib/python3.10/dist-packages/h2o/backend/bin/h2o.jar\n",
            "  Ice root: /tmp/tmp03ny97z1\n",
            "  JVM stdout: /tmp/tmp03ny97z1/h2o_unknownUser_started_from_python.out\n",
            "  JVM stderr: /tmp/tmp03ny97z1/h2o_unknownUser_started_from_python.err\n",
            "  Server is running at http://127.0.0.1:54321\n",
            "Connecting to H2O server at http://127.0.0.1:54321 ... successful.\n"
          ]
        },
        {
          "output_type": "display_data",
          "data": {
            "text/plain": [
              "--------------------------  -----------------------------------------------------------------------------------------\n",
              "H2O_cluster_uptime:         06 secs\n",
              "H2O_cluster_timezone:       Etc/UTC\n",
              "H2O_data_parsing_timezone:  UTC\n",
              "H2O_cluster_version:        3.46.0.3\n",
              "H2O_cluster_version_age:    11 days\n",
              "H2O_cluster_name:           H2O_from_python_unknownUser_pydqgi\n",
              "H2O_cluster_total_nodes:    1\n",
              "H2O_cluster_free_memory:    3.170 Gb\n",
              "H2O_cluster_total_cores:    2\n",
              "H2O_cluster_allowed_cores:  2\n",
              "H2O_cluster_status:         locked, healthy\n",
              "H2O_connection_url:         http://127.0.0.1:54321\n",
              "H2O_connection_proxy:       {\"http\": null, \"https\": null, \"colab_language_server\": \"/usr/colab/bin/language_service\"}\n",
              "H2O_internal_security:      False\n",
              "Python_version:             3.10.12 final\n",
              "--------------------------  -----------------------------------------------------------------------------------------"
            ],
            "text/html": [
              "\n",
              "<style>\n",
              "\n",
              "#h2o-table-1.h2o-container {\n",
              "  overflow-x: auto;\n",
              "}\n",
              "#h2o-table-1 .h2o-table {\n",
              "  /* width: 100%; */\n",
              "  margin-top: 1em;\n",
              "  margin-bottom: 1em;\n",
              "}\n",
              "#h2o-table-1 .h2o-table caption {\n",
              "  white-space: nowrap;\n",
              "  caption-side: top;\n",
              "  text-align: left;\n",
              "  /* margin-left: 1em; */\n",
              "  margin: 0;\n",
              "  font-size: larger;\n",
              "}\n",
              "#h2o-table-1 .h2o-table thead {\n",
              "  white-space: nowrap; \n",
              "  position: sticky;\n",
              "  top: 0;\n",
              "  box-shadow: 0 -1px inset;\n",
              "}\n",
              "#h2o-table-1 .h2o-table tbody {\n",
              "  overflow: auto;\n",
              "}\n",
              "#h2o-table-1 .h2o-table th,\n",
              "#h2o-table-1 .h2o-table td {\n",
              "  text-align: right;\n",
              "  /* border: 1px solid; */\n",
              "}\n",
              "#h2o-table-1 .h2o-table tr:nth-child(even) {\n",
              "  /* background: #F5F5F5 */\n",
              "}\n",
              "\n",
              "</style>      \n",
              "<div id=\"h2o-table-1\" class=\"h2o-container\">\n",
              "  <table class=\"h2o-table\">\n",
              "    <caption></caption>\n",
              "    <thead></thead>\n",
              "    <tbody><tr><td>H2O_cluster_uptime:</td>\n",
              "<td>06 secs</td></tr>\n",
              "<tr><td>H2O_cluster_timezone:</td>\n",
              "<td>Etc/UTC</td></tr>\n",
              "<tr><td>H2O_data_parsing_timezone:</td>\n",
              "<td>UTC</td></tr>\n",
              "<tr><td>H2O_cluster_version:</td>\n",
              "<td>3.46.0.3</td></tr>\n",
              "<tr><td>H2O_cluster_version_age:</td>\n",
              "<td>11 days</td></tr>\n",
              "<tr><td>H2O_cluster_name:</td>\n",
              "<td>H2O_from_python_unknownUser_pydqgi</td></tr>\n",
              "<tr><td>H2O_cluster_total_nodes:</td>\n",
              "<td>1</td></tr>\n",
              "<tr><td>H2O_cluster_free_memory:</td>\n",
              "<td>3.170 Gb</td></tr>\n",
              "<tr><td>H2O_cluster_total_cores:</td>\n",
              "<td>2</td></tr>\n",
              "<tr><td>H2O_cluster_allowed_cores:</td>\n",
              "<td>2</td></tr>\n",
              "<tr><td>H2O_cluster_status:</td>\n",
              "<td>locked, healthy</td></tr>\n",
              "<tr><td>H2O_connection_url:</td>\n",
              "<td>http://127.0.0.1:54321</td></tr>\n",
              "<tr><td>H2O_connection_proxy:</td>\n",
              "<td>{\"http\": null, \"https\": null, \"colab_language_server\": \"/usr/colab/bin/language_service\"}</td></tr>\n",
              "<tr><td>H2O_internal_security:</td>\n",
              "<td>False</td></tr>\n",
              "<tr><td>Python_version:</td>\n",
              "<td>3.10.12 final</td></tr></tbody>\n",
              "  </table>\n",
              "</div>\n"
            ]
          },
          "metadata": {}
        }
      ],
      "source": [
        "import h2o\n",
        "from h2o.automl import H2OAutoML\n",
        "\n",
        "# Initialize H2O cluster\n",
        "h2o.init()\n",
        "\n",
        "#importing the required modules\n",
        "import numpy as np\n",
        "import matplotlib.pyplot as plt\n",
        "from mpl_toolkits.mplot3d import Axes3D\n",
        "from sympy import symbols, exp, Mul , pi, sqrt, DiracDelta\n",
        "import seaborn as sns\n",
        "\n",
        "from sympy.utilities.lambdify import lambdify\n",
        "import pandas as pd\n",
        "import csv\n",
        "from scipy.stats import norm\n",
        "import math\n",
        "\n",
        "from google.colab import drive\n"
      ]
    },
    {
      "cell_type": "code",
      "source": [
        "#shiham\n",
        "\n",
        "drive.mount('/content/gdrive/', force_remount=True)\n",
        "%cd gdrive/MyDrive/Kaggle"
      ],
      "metadata": {
        "colab": {
          "base_uri": "https://localhost:8080/"
        },
        "id": "zs3IzQYL3TBS",
        "outputId": "40a26986-6a75-4a9e-c3ff-c6eb82b99ff9"
      },
      "execution_count": null,
      "outputs": [
        {
          "output_type": "stream",
          "name": "stdout",
          "text": [
            "Mounted at /content/gdrive/\n",
            "/content/gdrive/MyDrive/Kaggle\n"
          ]
        }
      ]
    },
    {
      "cell_type": "code",
      "source": [
        "pip install h2o"
      ],
      "metadata": {
        "colab": {
          "base_uri": "https://localhost:8080/"
        },
        "id": "QkorSovS28wj",
        "outputId": "c12636c0-ad50-433a-8858-19c6864a5f76"
      },
      "execution_count": null,
      "outputs": [
        {
          "output_type": "stream",
          "name": "stdout",
          "text": [
            "Collecting h2o\n",
            "  Downloading h2o-3.46.0.3.tar.gz (265.3 MB)\n",
            "\u001b[2K     \u001b[90m━━━━━━━━━━━━━━━━━━━━━━━━━━━━━━━━━━━━━━━━\u001b[0m \u001b[32m265.3/265.3 MB\u001b[0m \u001b[31m2.0 MB/s\u001b[0m eta \u001b[36m0:00:00\u001b[0m\n",
            "\u001b[?25h  Preparing metadata (setup.py) ... \u001b[?25l\u001b[?25hdone\n",
            "Requirement already satisfied: requests in /usr/local/lib/python3.10/dist-packages (from h2o) (2.31.0)\n",
            "Requirement already satisfied: tabulate in /usr/local/lib/python3.10/dist-packages (from h2o) (0.9.0)\n",
            "Requirement already satisfied: charset-normalizer<4,>=2 in /usr/local/lib/python3.10/dist-packages (from requests->h2o) (3.3.2)\n",
            "Requirement already satisfied: idna<4,>=2.5 in /usr/local/lib/python3.10/dist-packages (from requests->h2o) (3.7)\n",
            "Requirement already satisfied: urllib3<3,>=1.21.1 in /usr/local/lib/python3.10/dist-packages (from requests->h2o) (2.0.7)\n",
            "Requirement already satisfied: certifi>=2017.4.17 in /usr/local/lib/python3.10/dist-packages (from requests->h2o) (2024.6.2)\n",
            "Building wheels for collected packages: h2o\n",
            "  Building wheel for h2o (setup.py) ... \u001b[?25l\u001b[?25hdone\n",
            "  Created wheel for h2o: filename=h2o-3.46.0.3-py2.py3-none-any.whl size=265365897 sha256=dc8f8f85a2433f45cd4a2f2118361e4938b1a89bc32ff39a9086bddf2a0b4b55\n",
            "  Stored in directory: /root/.cache/pip/wheels/c4/63/41/baa115b5255e1db3e2383bce4e2e6181746aac0b42264c242f\n",
            "Successfully built h2o\n",
            "Installing collected packages: h2o\n",
            "Successfully installed h2o-3.46.0.3\n"
          ]
        }
      ]
    },
    {
      "cell_type": "code",
      "source": [
        "csv_file = 'final_unnormalized.csv'#make sure to have the Labels column\n",
        "# csv_file = 'csv_all.csv'\n",
        "drive.mount('/content/drive')\n",
        "data = h2o.import_file('/content/drive/MyDrive/Kaggle/final_unnormalized.csv')\n",
        "#df = pd.read_csv(csv_file)\n"
      ],
      "metadata": {
        "colab": {
          "base_uri": "https://localhost:8080/"
        },
        "id": "XFuOFCpe3i9U",
        "outputId": "c0738c17-6b86-4bb8-c55d-bf51c2468e4b"
      },
      "execution_count": null,
      "outputs": [
        {
          "output_type": "stream",
          "name": "stdout",
          "text": [
            "Drive already mounted at /content/drive; to attempt to forcibly remount, call drive.mount(\"/content/drive\", force_remount=True).\n",
            "Parse progress: |████████████████████████████████████████████████████████████████| (done) 100%\n"
          ]
        }
      ]
    },
    {
      "cell_type": "code",
      "source": [
        "# Load dataset\n",
        "from h2o.automl import H2OAutoML\n",
        "\n",
        "\n",
        "# Drop columns\n",
        "data = data.drop('wind_degree')\n",
        "data = data.drop('air_quality_us-epa-index')\n",
        "\n",
        "# Create new columns\n",
        "data['temp_diff'] = data['feels_like_celsius'] - data['temperature_celsius']\n",
        "data['wind_diff'] = data['gust_kph'] - data['wind_kph']\n",
        "# Specify target and features\n",
        "target = 'condition_text'\n",
        "features = data.columns\n",
        "features.remove(target)\n",
        "data[target] = data[target].asfactor()\n"
      ],
      "metadata": {
        "colab": {
          "base_uri": "https://localhost:8080/",
          "height": 332
        },
        "id": "WQOYLV762p2Z",
        "outputId": "8d6630fe-581c-4b2c-8cbd-3790faaf903e"
      },
      "execution_count": null,
      "outputs": [
        {
          "output_type": "error",
          "ename": "H2OValueError",
          "evalue": "Column(s) selected to drop are not in original frame: 'wind_degree'",
          "traceback": [
            "\u001b[0;31m---------------------------------------------------------------------------\u001b[0m",
            "\u001b[0;31mH2OValueError\u001b[0m                             Traceback (most recent call last)",
            "\u001b[0;32m<ipython-input-17-1df41d24f529>\u001b[0m in \u001b[0;36m<cell line: 6>\u001b[0;34m()\u001b[0m\n\u001b[1;32m      4\u001b[0m \u001b[0;34m\u001b[0m\u001b[0m\n\u001b[1;32m      5\u001b[0m \u001b[0;31m# Drop columns\u001b[0m\u001b[0;34m\u001b[0m\u001b[0;34m\u001b[0m\u001b[0m\n\u001b[0;32m----> 6\u001b[0;31m \u001b[0mdata\u001b[0m \u001b[0;34m=\u001b[0m \u001b[0mdata\u001b[0m\u001b[0;34m.\u001b[0m\u001b[0mdrop\u001b[0m\u001b[0;34m(\u001b[0m\u001b[0;34m'wind_degree'\u001b[0m\u001b[0;34m)\u001b[0m\u001b[0;34m\u001b[0m\u001b[0;34m\u001b[0m\u001b[0m\n\u001b[0m\u001b[1;32m      7\u001b[0m \u001b[0mdata\u001b[0m \u001b[0;34m=\u001b[0m \u001b[0mdata\u001b[0m\u001b[0;34m.\u001b[0m\u001b[0mdrop\u001b[0m\u001b[0;34m(\u001b[0m\u001b[0;34m'air_quality_us-epa-index'\u001b[0m\u001b[0;34m)\u001b[0m\u001b[0;34m\u001b[0m\u001b[0;34m\u001b[0m\u001b[0m\n\u001b[1;32m      8\u001b[0m \u001b[0;34m\u001b[0m\u001b[0m\n",
            "\u001b[0;32m/usr/local/lib/python3.10/dist-packages/h2o/frame.py\u001b[0m in \u001b[0;36mdrop\u001b[0;34m(self, index, axis)\u001b[0m\n\u001b[1;32m   2331\u001b[0m                     \u001b[0;31m# Check if index is an actual column(s) in the frame\u001b[0m\u001b[0;34m\u001b[0m\u001b[0;34m\u001b[0m\u001b[0m\n\u001b[1;32m   2332\u001b[0m                     \u001b[0;32mif\u001b[0m \u001b[0mindex\u001b[0m \u001b[0;32mnot\u001b[0m \u001b[0;32min\u001b[0m \u001b[0mself\u001b[0m\u001b[0;34m.\u001b[0m\u001b[0mnames\u001b[0m\u001b[0;34m:\u001b[0m\u001b[0;34m\u001b[0m\u001b[0;34m\u001b[0m\u001b[0m\n\u001b[0;32m-> 2333\u001b[0;31m                         \u001b[0;32mraise\u001b[0m \u001b[0mH2OValueError\u001b[0m\u001b[0;34m(\u001b[0m\u001b[0;34m\"Column(s) selected to drop are not in original frame: %r\"\u001b[0m \u001b[0;34m%\u001b[0m \u001b[0mindex\u001b[0m\u001b[0;34m)\u001b[0m\u001b[0;34m\u001b[0m\u001b[0;34m\u001b[0m\u001b[0m\n\u001b[0m\u001b[1;32m   2334\u001b[0m                     \u001b[0mindex\u001b[0m \u001b[0;34m=\u001b[0m \u001b[0mself\u001b[0m\u001b[0;34m.\u001b[0m\u001b[0mnames\u001b[0m\u001b[0;34m.\u001b[0m\u001b[0mindex\u001b[0m\u001b[0;34m(\u001b[0m\u001b[0mindex\u001b[0m\u001b[0;34m)\u001b[0m\u001b[0;34m\u001b[0m\u001b[0;34m\u001b[0m\u001b[0m\n\u001b[1;32m   2335\u001b[0m                 \u001b[0;31m# If input is an int indicating a column index, i.e., 3:\u001b[0m\u001b[0;34m\u001b[0m\u001b[0;34m\u001b[0m\u001b[0m\n",
            "\u001b[0;31mH2OValueError\u001b[0m: Column(s) selected to drop are not in original frame: 'wind_degree'"
          ]
        }
      ]
    },
    {
      "cell_type": "code",
      "source": [
        "\n",
        "# Split the data\n",
        "train, test = data.split_frame(ratios=[.8], seed=1234)\n",
        "\n",
        "# Train AutoML model\n",
        "aml = H2OAutoML(max_runtime_secs=600, seed=1)\n",
        "aml.train(x=features, y=target, training_frame=train)\n",
        "\n",
        "# Evaluate model\n",
        "lb = aml.leaderboard\n",
        "print(lb)\n",
        "\n",
        "best_model = aml.leader\n",
        "predictions = best_model.predict(test)\n",
        "performance = best_model.model_performance(test)\n",
        "print(performance)\n",
        "\n",
        "# Save the model\n",
        "#model_path = h2o.save_model(model=best_model, path=\"/path/to/save\", force=True)\n",
        "\n",
        "# Load the model\n",
        "#loaded_model = h2o.load_model(model_path)"
      ],
      "metadata": {
        "colab": {
          "base_uri": "https://localhost:8080/"
        },
        "id": "NkDBaEsb-a_8",
        "outputId": "f7820905-d576-44ef-9a45-aed2955182db"
      },
      "execution_count": null,
      "outputs": [
        {
          "output_type": "stream",
          "name": "stdout",
          "text": [
            "AutoML progress: |\n",
            "16:49:58.50: _train param, Dropping bad and constant columns: [city_id_C056, city_id_C078, city_id_C092, day_id, city_id_C038, city_id_C006, city_id_C039]\n",
            "\n",
            "█\n",
            "16:50:01.153: _train param, Dropping bad and constant columns: [city_id_C056, city_id_C078, city_id_C092, day_id, city_id_C038, city_id_C006, city_id_C039]\n",
            "\n",
            "██\n",
            "16:50:06.456: GLM_1_AutoML_5_20240623_164958 [GLM def_1] failed: java.lang.ArrayIndexOutOfBoundsException\n",
            "16:50:06.462: _train param, Dropping bad and constant columns: [city_id_C056, city_id_C078, city_id_C092, day_id, city_id_C038, city_id_C006, city_id_C039]\n",
            "\n",
            "█\n",
            "16:50:14.346: _train param, Dropping unused columns: [city_id_C056, city_id_C078, city_id_C092, day_id, city_id_C038, city_id_C006, city_id_C039]\n",
            "\n",
            "██\n",
            "16:50:20.219: _train param, Dropping bad and constant columns: [city_id_C056, city_id_C078, city_id_C092, day_id, city_id_C038, city_id_C006, city_id_C039]\n",
            "16:50:25.830: _train param, Dropping bad and constant columns: [city_id_C056, city_id_C078, city_id_C092, day_id, city_id_C038, city_id_C006, city_id_C039]\n",
            "\n",
            "██\n",
            "16:50:50.665: _train param, Dropping bad and constant columns: [city_id_C056, city_id_C078, city_id_C092, day_id, city_id_C038, city_id_C006, city_id_C039]\n",
            "\n",
            "█\n",
            "16:51:10.174: _train param, Dropping bad and constant columns: [city_id_C056, city_id_C078, city_id_C092, day_id, city_id_C038, city_id_C006, city_id_C039]\n",
            "\n",
            "██\n",
            "16:51:28.541: _train param, Dropping bad and constant columns: [city_id_C056, city_id_C078, city_id_C092, day_id, city_id_C038, city_id_C006, city_id_C039]\n",
            "\n",
            "██\n",
            "16:51:49.10: _train param, Dropping unused columns: [city_id_C056, city_id_C078, city_id_C092, day_id, city_id_C038, city_id_C006, city_id_C039]\n",
            "\n",
            "\n",
            "16:51:52.545: _train param, Dropping unused columns: [city_id_C056, city_id_C078, city_id_C092, day_id, city_id_C038, city_id_C006, city_id_C039]\n",
            "\n",
            "█\n",
            "16:51:56.680: _train param, Dropping bad and constant columns: [city_id_C056, city_id_C078, city_id_C092, day_id, city_id_C038, city_id_C006, city_id_C039]\n",
            "\n",
            "\n",
            "16:51:58.997: _train param, Dropping bad and constant columns: [city_id_C056, city_id_C078, city_id_C092, day_id, city_id_C038, city_id_C006, city_id_C039]\n",
            "\n",
            "█\n",
            "16:52:11.116: _train param, Dropping bad and constant columns: [city_id_C056, city_id_C078, city_id_C092, day_id, city_id_C038, city_id_C006, city_id_C039]\n",
            "\n",
            "██\n",
            "16:52:26.619: _train param, Dropping bad and constant columns: [city_id_C056, city_id_C078, city_id_C092, day_id, city_id_C038, city_id_C006, city_id_C039]\n",
            "\n",
            "\n",
            "16:52:27.423: _train param, Dropping unused columns: [city_id_C056, city_id_C078, city_id_C092, day_id, city_id_C038, city_id_C006, city_id_C039]\n",
            "\n",
            "\n",
            "16:52:30.196: _train param, Dropping unused columns: [city_id_C056, city_id_C078, city_id_C092, day_id, city_id_C038, city_id_C006, city_id_C039]\n",
            "\n",
            "████████████████████████████████████████\n",
            "16:59:08.318: _train param, Dropping unused columns: [city_id_C056, city_id_C078, city_id_C092, day_id, city_id_C038, city_id_C006, city_id_C039]\n",
            "\n",
            "█\n",
            "16:59:10.643: _train param, Dropping unused columns: [city_id_C056, city_id_C078, city_id_C092, day_id, city_id_C038, city_id_C006, city_id_C039]\n",
            "\n",
            "█████| (done) 100%\n",
            "\n",
            "16:59:54.684: _train param, Dropping unused columns: [city_id_C056, city_id_C078, city_id_C092, day_id, city_id_C038, city_id_C006, city_id_C039]\n",
            "\n",
            "model_id                                            mean_per_class_error    logloss      rmse       mse\n",
            "XGBoost_grid_1_AutoML_5_20240623_164958_model_17                0.511083   1.02772   0.554749  0.307746\n",
            "GBM_grid_1_AutoML_5_20240623_164958_model_8                     0.515208   1.03681   0.535971  0.287265\n",
            "GBM_grid_1_AutoML_5_20240623_164958_model_11                    0.520353   0.977791  0.544786  0.296792\n",
            "XGBoost_grid_1_AutoML_5_20240623_164958_model_8                 0.525347   1.14504   0.52891   0.279746\n",
            "XGBoost_grid_1_AutoML_5_20240623_164958_model_10                0.527838   1.08068   0.531147  0.282117\n",
            "GBM_grid_1_AutoML_5_20240623_164958_model_5                     0.52819    1.02091   0.540759  0.29242\n",
            "GBM_grid_1_AutoML_5_20240623_164958_model_2                     0.528777   1.03976   0.541103  0.292792\n",
            "GBM_4_AutoML_5_20240623_164958                                  0.531755   1.02198   0.537411  0.288811\n",
            "GBM_grid_1_AutoML_5_20240623_164958_model_4                     0.532042   0.97748   0.542396  0.294193\n",
            "GBM_3_AutoML_5_20240623_164958                                  0.533136   1.0079    0.534104  0.285268\n",
            "[62 rows x 5 columns]\n",
            "\n",
            "xgboost prediction progress: |███████████████████████████████████████████████████| (done) 100%\n",
            "ModelMetricsMultinomial: xgboost\n",
            "** Reported on test data. **\n",
            "\n",
            "MSE: 0.25776920954918225\n",
            "RMSE: 0.5077097690109796\n",
            "LogLoss: 0.8033521950224785\n",
            "Mean Per-Class Error: 0.5704585537918871\n",
            "AUC table was not computed: it is either disabled (model parameter 'auc_type' was set to AUTO or NONE) or the domain size exceeds the limit (maximum is 50 domains).\n",
            "AUCPR table was not computed: it is either disabled (model parameter 'auc_type' was set to AUTO or NONE) or the domain size exceeds the limit (maximum is 50 domains).\n",
            "\n",
            "Confusion Matrix: Row labels: Actual class; Column labels: Predicted class\n",
            "0    1    2    3    4    5    6    7    8    Error     Rate\n",
            "---  ---  ---  ---  ---  ---  ---  ---  ---  --------  -------\n",
            "26   0    0    0    0    0    0    0    0    0         0 / 26\n",
            "0    17   0    0    1    1    0    1    0    0.15      3 / 20\n",
            "0    3    8    3    3    1    0    0    0    0.555556  10 / 18\n",
            "0    3    0    4    0    0    0    0    0    0.428571  3 / 7\n",
            "0    0    0    0    6    0    0    0    0    0         0 / 6\n",
            "0    1    0    0    0    0    0    0    0    1         1 / 1\n",
            "0    2    0    0    1    0    0    0    0    1         3 / 3\n",
            "0    0    0    1    1    0    0    0    0    1         2 / 2\n",
            "0    0    1    1    0    0    0    0    0    1         2 / 2\n",
            "26   26   9    9    12   2    0    1    0    0.282353  24 / 85\n",
            "\n",
            "Top-9 Hit Ratios: \n",
            "k    hit_ratio\n",
            "---  -----------\n",
            "1    0.717647\n",
            "2    0.858824\n",
            "3    0.917647\n",
            "4    0.952941\n",
            "5    0.964706\n",
            "6    0.964706\n",
            "7    1\n",
            "8    1\n",
            "9    1\n"
          ]
        }
      ]
    },
    {
      "cell_type": "code",
      "source": [
        "#drive.mount('/content/drive')\n",
        "data = h2o.import_file('/content/drive/MyDrive/Kaggle/daily_data.csv_processed.csv')"
      ],
      "metadata": {
        "colab": {
          "base_uri": "https://localhost:8080/"
        },
        "id": "TM0OBQ822zow",
        "outputId": "089b626a-f292-4215-c153-f5edc87904b4"
      },
      "execution_count": null,
      "outputs": [
        {
          "output_type": "stream",
          "name": "stdout",
          "text": [
            "Parse progress: |████████████████████████████████████████████████████████████████| (done) 100%\n"
          ]
        }
      ]
    },
    {
      "cell_type": "code",
      "source": [
        "# Drop columns\n",
        "data = data.drop('wind_degree')\n",
        "data = data.drop('air_quality_us-epa-index')\n",
        "\n",
        "# Create new columns\n",
        "data['temp_diff'] = data['feels_like_celsius'] - data['temperature_celsius']\n",
        "data['wind_diff'] = data['gust_kph'] - data['wind_kph']"
      ],
      "metadata": {
        "id": "DmZgXhhLO6zt"
      },
      "execution_count": null,
      "outputs": []
    },
    {
      "cell_type": "code",
      "source": [
        "print(data.shape)"
      ],
      "metadata": {
        "colab": {
          "base_uri": "https://localhost:8080/"
        },
        "id": "nhKqCMlAPC9K",
        "outputId": "92a6c852-86c5-490e-9b9c-3c57af9303eb"
      },
      "execution_count": null,
      "outputs": [
        {
          "output_type": "stream",
          "name": "stdout",
          "text": [
            "(2893, 128)\n"
          ]
        }
      ]
    },
    {
      "cell_type": "code",
      "source": [
        "predictions = best_model.predict(data)\n",
        "print(predictions)"
      ],
      "metadata": {
        "id": "dLs2KMLIPaWD",
        "outputId": "cb9302cf-6fff-4345-aa28-8029b96e301c",
        "colab": {
          "base_uri": "https://localhost:8080/",
          "height": 582
        }
      },
      "execution_count": null,
      "outputs": [
        {
          "output_type": "stream",
          "name": "stdout",
          "text": [
            "xgboost prediction progress: | (failed)\n"
          ]
        },
        {
          "output_type": "error",
          "ename": "OSError",
          "evalue": "Job with key $03017f00000132d4ffffffff$_97e818676d864d126b27d31d13934b9c failed with an exception: java.lang.IllegalArgumentException: Test/Validation dataset has a categorical response column 'condition_text' with no levels in common with the model\nstacktrace: \njava.lang.IllegalArgumentException: Test/Validation dataset has a categorical response column 'condition_text' with no levels in common with the model\n\tat hex.Model.adaptTestForTrain(Model.java:1825)\n\tat hex.Model.adaptTestForTrain(Model.java:1643)\n\tat hex.Model.adaptTestForTrain(Model.java:1639)\n\tat hex.Model.adaptFrameForScore(Model.java:1981)\n\tat hex.Model.score(Model.java:1999)\n\tat water.api.ModelMetricsHandler$1.compute2(ModelMetricsHandler.java:555)\n\tat water.H2O$H2OCountedCompleter.compute(H2O.java:1704)\n\tat jsr166y.CountedCompleter.exec(CountedCompleter.java:468)\n\tat jsr166y.ForkJoinTask.doExec(ForkJoinTask.java:263)\n\tat jsr166y.ForkJoinPool$WorkQueue.runTask(ForkJoinPool.java:976)\n\tat jsr166y.ForkJoinPool.runWorker(ForkJoinPool.java:1479)\n\tat jsr166y.ForkJoinWorkerThread.run(ForkJoinWorkerThread.java:104)\n",
          "traceback": [
            "\u001b[0;31m---------------------------------------------------------------------------\u001b[0m",
            "\u001b[0;31mOSError\u001b[0m                                   Traceback (most recent call last)",
            "\u001b[0;32m<ipython-input-26-5cb8afeffdd2>\u001b[0m in \u001b[0;36m<cell line: 1>\u001b[0;34m()\u001b[0m\n\u001b[0;32m----> 1\u001b[0;31m \u001b[0mpredictions\u001b[0m \u001b[0;34m=\u001b[0m \u001b[0mbest_model\u001b[0m\u001b[0;34m.\u001b[0m\u001b[0mpredict\u001b[0m\u001b[0;34m(\u001b[0m\u001b[0mdata\u001b[0m\u001b[0;34m)\u001b[0m\u001b[0;34m\u001b[0m\u001b[0;34m\u001b[0m\u001b[0m\n\u001b[0m\u001b[1;32m      2\u001b[0m \u001b[0mprint\u001b[0m\u001b[0;34m(\u001b[0m\u001b[0mpredictions\u001b[0m\u001b[0;34m)\u001b[0m\u001b[0;34m\u001b[0m\u001b[0;34m\u001b[0m\u001b[0m\n",
            "\u001b[0;32m/usr/local/lib/python3.10/dist-packages/h2o/model/model_base.py\u001b[0m in \u001b[0;36mpredict\u001b[0;34m(self, test_data, custom_metric, custom_metric_func)\u001b[0m\n\u001b[1;32m    332\u001b[0m         j = H2OJob(h2o.api(\"POST /4/Predictions/models/%s/frames/%s\" % (self.model_id, test_data.frame_id), data = {'custom_metric_func': custom_metric_func}),\n\u001b[1;32m    333\u001b[0m                    self._model_json[\"algo\"] + \" prediction\")\n\u001b[0;32m--> 334\u001b[0;31m         \u001b[0mj\u001b[0m\u001b[0;34m.\u001b[0m\u001b[0mpoll\u001b[0m\u001b[0;34m(\u001b[0m\u001b[0;34m)\u001b[0m\u001b[0;34m\u001b[0m\u001b[0;34m\u001b[0m\u001b[0m\n\u001b[0m\u001b[1;32m    335\u001b[0m         \u001b[0;32mreturn\u001b[0m \u001b[0mh2o\u001b[0m\u001b[0;34m.\u001b[0m\u001b[0mget_frame\u001b[0m\u001b[0;34m(\u001b[0m\u001b[0mj\u001b[0m\u001b[0;34m.\u001b[0m\u001b[0mdest_key\u001b[0m\u001b[0;34m)\u001b[0m\u001b[0;34m\u001b[0m\u001b[0;34m\u001b[0m\u001b[0m\n\u001b[1;32m    336\u001b[0m \u001b[0;34m\u001b[0m\u001b[0m\n",
            "\u001b[0;32m/usr/local/lib/python3.10/dist-packages/h2o/job.py\u001b[0m in \u001b[0;36mpoll\u001b[0;34m(self, poll_updates)\u001b[0m\n\u001b[1;32m     86\u001b[0m         \u001b[0;32mif\u001b[0m \u001b[0mself\u001b[0m\u001b[0;34m.\u001b[0m\u001b[0mstatus\u001b[0m \u001b[0;34m==\u001b[0m \u001b[0;34m\"FAILED\"\u001b[0m\u001b[0;34m:\u001b[0m\u001b[0;34m\u001b[0m\u001b[0;34m\u001b[0m\u001b[0m\n\u001b[1;32m     87\u001b[0m             \u001b[0;32mif\u001b[0m \u001b[0;34m(\u001b[0m\u001b[0misinstance\u001b[0m\u001b[0;34m(\u001b[0m\u001b[0mself\u001b[0m\u001b[0;34m.\u001b[0m\u001b[0mjob\u001b[0m\u001b[0;34m,\u001b[0m \u001b[0mdict\u001b[0m\u001b[0;34m)\u001b[0m\u001b[0;34m)\u001b[0m \u001b[0;32mand\u001b[0m \u001b[0;34m(\u001b[0m\u001b[0;34m\"stacktrace\"\u001b[0m \u001b[0;32min\u001b[0m \u001b[0mlist\u001b[0m\u001b[0;34m(\u001b[0m\u001b[0mself\u001b[0m\u001b[0;34m.\u001b[0m\u001b[0mjob\u001b[0m\u001b[0;34m)\u001b[0m\u001b[0;34m)\u001b[0m\u001b[0;34m:\u001b[0m\u001b[0;34m\u001b[0m\u001b[0;34m\u001b[0m\u001b[0m\n\u001b[0;32m---> 88\u001b[0;31m                 raise EnvironmentError(\"Job with key {} failed with an exception: {}\\nstacktrace: \"\n\u001b[0m\u001b[1;32m     89\u001b[0m                                        \"\\n{}\".format(self.job_key, self.exception, self.job[\"stacktrace\"]))\n\u001b[1;32m     90\u001b[0m             \u001b[0;32melse\u001b[0m\u001b[0;34m:\u001b[0m\u001b[0;34m\u001b[0m\u001b[0;34m\u001b[0m\u001b[0m\n",
            "\u001b[0;31mOSError\u001b[0m: Job with key $03017f00000132d4ffffffff$_97e818676d864d126b27d31d13934b9c failed with an exception: java.lang.IllegalArgumentException: Test/Validation dataset has a categorical response column 'condition_text' with no levels in common with the model\nstacktrace: \njava.lang.IllegalArgumentException: Test/Validation dataset has a categorical response column 'condition_text' with no levels in common with the model\n\tat hex.Model.adaptTestForTrain(Model.java:1825)\n\tat hex.Model.adaptTestForTrain(Model.java:1643)\n\tat hex.Model.adaptTestForTrain(Model.java:1639)\n\tat hex.Model.adaptFrameForScore(Model.java:1981)\n\tat hex.Model.score(Model.java:1999)\n\tat water.api.ModelMetricsHandler$1.compute2(ModelMetricsHandler.java:555)\n\tat water.H2O$H2OCountedCompleter.compute(H2O.java:1704)\n\tat jsr166y.CountedCompleter.exec(CountedCompleter.java:468)\n\tat jsr166y.ForkJoinTask.doExec(ForkJoinTask.java:263)\n\tat jsr166y.ForkJoinPool$WorkQueue.runTask(ForkJoinPool.java:976)\n\tat jsr166y.ForkJoinPool.runWorker(ForkJoinPool.java:1479)\n\tat jsr166y.ForkJoinWorkerThread.run(ForkJoinWorkerThread.java:104)\n"
          ]
        }
      ]
    }
  ]
}