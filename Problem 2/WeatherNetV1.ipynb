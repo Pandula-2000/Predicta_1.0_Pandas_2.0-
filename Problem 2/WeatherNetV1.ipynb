{
 "cells": [
  {
   "cell_type": "code",
   "id": "initial_id",
   "metadata": {
    "collapsed": true,
    "ExecuteTime": {
     "end_time": "2024-06-22T18:06:34.942112Z",
     "start_time": "2024-06-22T18:06:34.923484Z"
    }
   },
   "source": [
    "import pandas as pd\n",
    "from sklearn.preprocessing import OneHotEncoder\n",
    "\n",
    "# Load the dataset\n",
    "csv_file = 'final.csv'  # Ensure this file contains the 'Labels' column\n",
    "cvs2 = 'training_set_z_score_normalized.csv'\n",
    "data = pd.read_csv(csv_file)\n",
    "data2 = pd.read_csv(cvs2)\n",
    "\n",
    "dataset = data.drop('day_id', axis=1)\n",
    "# dataset = dataset.drop('uv_index', axis=1)\n",
    "# dataset = dataset.drop('feels_like_celsius', axis=1)\n",
    "# dataset = dataset.drop('air_quality_us-epa-index', axis=1)\n",
    "# dataset = dataset.drop('pressure_mb', axis=1)\n",
    "# dataset = dataset.drop('sunrise', axis=1)\n",
    "# dataset = dataset.drop('sunset', axis=1)\n",
    "\n",
    "\n",
    "dataset2 = data2.drop('day_id', axis=1)\n",
    "dataset2 = dataset2.drop('uv_index', axis=1)\n",
    "dataset2 = dataset2.drop('city_id', axis=1)\n",
    "dataset2 = dataset2.drop('feels_like_celsius', axis=1)\n",
    "dataset2 = dataset2.drop('air_quality_us-epa-index', axis=1)\n",
    "dataset2 = dataset2.drop('pressure_mb', axis=1)\n",
    "dataset2 = dataset2.drop('sunrise', axis=1)\n",
    "dataset2 = dataset2.drop('sunset', axis=1)\n"
   ],
   "outputs": [],
   "execution_count": 427
  },
  {
   "metadata": {
    "ExecuteTime": {
     "end_time": "2024-06-22T18:06:34.998638Z",
     "start_time": "2024-06-22T18:06:34.983925Z"
    }
   },
   "cell_type": "code",
   "source": "dataset.head()",
   "id": "8c9717919e7b6e51",
   "outputs": [
    {
     "data": {
      "text/plain": [
       "   condition_text  temperature_celsius  wind_kph  wind_degree  pressure_mb  \\\n",
       "0               6            -0.325687 -0.976376    -1.491115    -0.345813   \n",
       "1               0            -0.791186 -0.634911    -0.084787     0.802218   \n",
       "2               1            -0.170521 -0.921742     1.522446     0.310205   \n",
       "3               0            -0.480854 -0.976376    -0.948674     0.638214   \n",
       "4               1            -0.480854 -0.976376    -0.757815    -0.509818   \n",
       "\n",
       "   precip_mm  humidity     cloud  feels_like_celsius  visibility_km  ...  \\\n",
       "0   3.808121  1.160612  0.802314           -0.442245       0.187573  ...   \n",
       "1  -0.246614  0.506188 -1.269057           -0.791270       0.187573  ...   \n",
       "2  -0.246614  1.160612  0.111857           -0.325903       0.187573  ...   \n",
       "3  -0.246614  0.506188 -1.269057           -0.558586       0.187573  ...   \n",
       "4  -0.246614 -0.311842 -0.578600           -0.558586       0.187573  ...   \n",
       "\n",
       "   city_id_C103  city_id_C104  city_id_C105  city_id_C106  city_id_C107  \\\n",
       "0             0             0             0             0             0   \n",
       "1             0             0             0             0             0   \n",
       "2             0             0             0             0             0   \n",
       "3             0             0             0             0             0   \n",
       "4             0             0             0             0             0   \n",
       "\n",
       "   city_id_C108  city_id_C109  city_id_C110  city_id_C111  city_id_C112  \n",
       "0             0             0             0             0             0  \n",
       "1             0             0             0             0             0  \n",
       "2             0             0             0             0             0  \n",
       "3             0             0             0             0             0  \n",
       "4             0             0             0             0             0  \n",
       "\n",
       "[5 rows x 124 columns]"
      ],
      "text/html": [
       "<div>\n",
       "<style scoped>\n",
       "    .dataframe tbody tr th:only-of-type {\n",
       "        vertical-align: middle;\n",
       "    }\n",
       "\n",
       "    .dataframe tbody tr th {\n",
       "        vertical-align: top;\n",
       "    }\n",
       "\n",
       "    .dataframe thead th {\n",
       "        text-align: right;\n",
       "    }\n",
       "</style>\n",
       "<table border=\"1\" class=\"dataframe\">\n",
       "  <thead>\n",
       "    <tr style=\"text-align: right;\">\n",
       "      <th></th>\n",
       "      <th>condition_text</th>\n",
       "      <th>temperature_celsius</th>\n",
       "      <th>wind_kph</th>\n",
       "      <th>wind_degree</th>\n",
       "      <th>pressure_mb</th>\n",
       "      <th>precip_mm</th>\n",
       "      <th>humidity</th>\n",
       "      <th>cloud</th>\n",
       "      <th>feels_like_celsius</th>\n",
       "      <th>visibility_km</th>\n",
       "      <th>...</th>\n",
       "      <th>city_id_C103</th>\n",
       "      <th>city_id_C104</th>\n",
       "      <th>city_id_C105</th>\n",
       "      <th>city_id_C106</th>\n",
       "      <th>city_id_C107</th>\n",
       "      <th>city_id_C108</th>\n",
       "      <th>city_id_C109</th>\n",
       "      <th>city_id_C110</th>\n",
       "      <th>city_id_C111</th>\n",
       "      <th>city_id_C112</th>\n",
       "    </tr>\n",
       "  </thead>\n",
       "  <tbody>\n",
       "    <tr>\n",
       "      <th>0</th>\n",
       "      <td>6</td>\n",
       "      <td>-0.325687</td>\n",
       "      <td>-0.976376</td>\n",
       "      <td>-1.491115</td>\n",
       "      <td>-0.345813</td>\n",
       "      <td>3.808121</td>\n",
       "      <td>1.160612</td>\n",
       "      <td>0.802314</td>\n",
       "      <td>-0.442245</td>\n",
       "      <td>0.187573</td>\n",
       "      <td>...</td>\n",
       "      <td>0</td>\n",
       "      <td>0</td>\n",
       "      <td>0</td>\n",
       "      <td>0</td>\n",
       "      <td>0</td>\n",
       "      <td>0</td>\n",
       "      <td>0</td>\n",
       "      <td>0</td>\n",
       "      <td>0</td>\n",
       "      <td>0</td>\n",
       "    </tr>\n",
       "    <tr>\n",
       "      <th>1</th>\n",
       "      <td>0</td>\n",
       "      <td>-0.791186</td>\n",
       "      <td>-0.634911</td>\n",
       "      <td>-0.084787</td>\n",
       "      <td>0.802218</td>\n",
       "      <td>-0.246614</td>\n",
       "      <td>0.506188</td>\n",
       "      <td>-1.269057</td>\n",
       "      <td>-0.791270</td>\n",
       "      <td>0.187573</td>\n",
       "      <td>...</td>\n",
       "      <td>0</td>\n",
       "      <td>0</td>\n",
       "      <td>0</td>\n",
       "      <td>0</td>\n",
       "      <td>0</td>\n",
       "      <td>0</td>\n",
       "      <td>0</td>\n",
       "      <td>0</td>\n",
       "      <td>0</td>\n",
       "      <td>0</td>\n",
       "    </tr>\n",
       "    <tr>\n",
       "      <th>2</th>\n",
       "      <td>1</td>\n",
       "      <td>-0.170521</td>\n",
       "      <td>-0.921742</td>\n",
       "      <td>1.522446</td>\n",
       "      <td>0.310205</td>\n",
       "      <td>-0.246614</td>\n",
       "      <td>1.160612</td>\n",
       "      <td>0.111857</td>\n",
       "      <td>-0.325903</td>\n",
       "      <td>0.187573</td>\n",
       "      <td>...</td>\n",
       "      <td>0</td>\n",
       "      <td>0</td>\n",
       "      <td>0</td>\n",
       "      <td>0</td>\n",
       "      <td>0</td>\n",
       "      <td>0</td>\n",
       "      <td>0</td>\n",
       "      <td>0</td>\n",
       "      <td>0</td>\n",
       "      <td>0</td>\n",
       "    </tr>\n",
       "    <tr>\n",
       "      <th>3</th>\n",
       "      <td>0</td>\n",
       "      <td>-0.480854</td>\n",
       "      <td>-0.976376</td>\n",
       "      <td>-0.948674</td>\n",
       "      <td>0.638214</td>\n",
       "      <td>-0.246614</td>\n",
       "      <td>0.506188</td>\n",
       "      <td>-1.269057</td>\n",
       "      <td>-0.558586</td>\n",
       "      <td>0.187573</td>\n",
       "      <td>...</td>\n",
       "      <td>0</td>\n",
       "      <td>0</td>\n",
       "      <td>0</td>\n",
       "      <td>0</td>\n",
       "      <td>0</td>\n",
       "      <td>0</td>\n",
       "      <td>0</td>\n",
       "      <td>0</td>\n",
       "      <td>0</td>\n",
       "      <td>0</td>\n",
       "    </tr>\n",
       "    <tr>\n",
       "      <th>4</th>\n",
       "      <td>1</td>\n",
       "      <td>-0.480854</td>\n",
       "      <td>-0.976376</td>\n",
       "      <td>-0.757815</td>\n",
       "      <td>-0.509818</td>\n",
       "      <td>-0.246614</td>\n",
       "      <td>-0.311842</td>\n",
       "      <td>-0.578600</td>\n",
       "      <td>-0.558586</td>\n",
       "      <td>0.187573</td>\n",
       "      <td>...</td>\n",
       "      <td>0</td>\n",
       "      <td>0</td>\n",
       "      <td>0</td>\n",
       "      <td>0</td>\n",
       "      <td>0</td>\n",
       "      <td>0</td>\n",
       "      <td>0</td>\n",
       "      <td>0</td>\n",
       "      <td>0</td>\n",
       "      <td>0</td>\n",
       "    </tr>\n",
       "  </tbody>\n",
       "</table>\n",
       "<p>5 rows × 124 columns</p>\n",
       "</div>"
      ]
     },
     "execution_count": 428,
     "metadata": {},
     "output_type": "execute_result"
    }
   ],
   "execution_count": 428
  },
  {
   "metadata": {
    "ExecuteTime": {
     "end_time": "2024-06-22T18:06:35.004738Z",
     "start_time": "2024-06-22T18:06:34.999636Z"
    }
   },
   "cell_type": "code",
   "source": [
    "# Import necessary libraries\n",
    "import torch\n",
    "from torch import nn, optim\n",
    "from sklearn.model_selection import train_test_split\n",
    "from sklearn.preprocessing import LabelEncoder\n",
    "from torch.utils.data import TensorDataset, DataLoader\n",
    "\n",
    "# Load your dataset\n",
    "# Assuming your DataFrame is named 'df'\n",
    "# df = pd.read_csv('your_dataset.csv')\n",
    "\n",
    "# Preprocess your data\n",
    "# Handle missing values\n",
    "# df = df.dropna()\n",
    "\n",
    "# Convert categorical data to numerical data\n",
    "\n",
    "# le = LabelEncoder()\n",
    "# df['condition_text'] = le.fit_transform(df['condition_text'])\n",
    "\n",
    "# Split your data into features (X) and target (y)\n",
    "# x = dataset.drop('condition_text', axis=1).values\n",
    "# y = dataset['condition_text'].values\n",
    "\n",
    "x = dataset2.drop('condition_text', axis=1).values\n",
    "y = dataset2['condition_text'].values\n"
   ],
   "id": "1b8643e3b7daa416",
   "outputs": [],
   "execution_count": 429
  },
  {
   "metadata": {
    "ExecuteTime": {
     "end_time": "2024-06-22T18:06:35.011668Z",
     "start_time": "2024-06-22T18:06:35.008731Z"
    }
   },
   "cell_type": "code",
   "source": [
    "print(x.shape)\n",
    "print(type(x))\n",
    "# print(x)"
   ],
   "id": "43c6c6ff7a1a1811",
   "outputs": [
    {
     "name": "stdout",
     "output_type": "stream",
     "text": [
      "(479, 8)\n",
      "<class 'numpy.ndarray'>\n"
     ]
    }
   ],
   "execution_count": 430
  },
  {
   "metadata": {
    "ExecuteTime": {
     "end_time": "2024-06-22T18:06:35.018068Z",
     "start_time": "2024-06-22T18:06:35.014662Z"
    }
   },
   "cell_type": "code",
   "source": [
    "X = torch.from_numpy(x).type(torch.float32)\n",
    "Y = torch.from_numpy(y).type(torch.float32)"
   ],
   "id": "6f7a6121a028cf14",
   "outputs": [],
   "execution_count": 431
  },
  {
   "metadata": {
    "ExecuteTime": {
     "end_time": "2024-06-22T18:06:35.043426Z",
     "start_time": "2024-06-22T18:06:35.039015Z"
    }
   },
   "cell_type": "code",
   "source": [
    "print(X.shape)\n",
    "print(Y.shape)"
   ],
   "id": "145d87f7d5a43337",
   "outputs": [
    {
     "name": "stdout",
     "output_type": "stream",
     "text": [
      "torch.Size([479, 8])\n",
      "torch.Size([479])\n"
     ]
    }
   ],
   "execution_count": 432
  },
  {
   "metadata": {
    "ExecuteTime": {
     "end_time": "2024-06-22T18:06:35.066838Z",
     "start_time": "2024-06-22T18:06:35.062811Z"
    }
   },
   "cell_type": "code",
   "source": "print(X[:2])",
   "id": "d5899439894b0841",
   "outputs": [
    {
     "name": "stdout",
     "output_type": "stream",
     "text": [
      "tensor([[-0.3257, -0.9764, -1.4911,  3.8081,  1.1606,  0.8023,  0.1876, -0.4661],\n",
      "        [-0.7912, -0.6349, -0.0848, -0.2466,  0.5062, -1.2691,  0.1876, -0.5943]])\n"
     ]
    }
   ],
   "execution_count": 433
  },
  {
   "metadata": {
    "ExecuteTime": {
     "end_time": "2024-06-22T18:06:35.186586Z",
     "start_time": "2024-06-22T18:06:35.182639Z"
    }
   },
   "cell_type": "code",
   "source": [
    "# Split your data into training and testing sets\n",
    "X_train, X_test, y_train, y_test = train_test_split(X, Y, test_size=0.2, random_state=42)"
   ],
   "id": "f3ed1577b80705df",
   "outputs": [],
   "execution_count": 434
  },
  {
   "metadata": {
    "ExecuteTime": {
     "end_time": "2024-06-22T18:06:35.236447Z",
     "start_time": "2024-06-22T18:06:35.231468Z"
    }
   },
   "cell_type": "code",
   "source": [
    "print(len(X_train), len(y_train))\n",
    "print(len(X_test), len(y_test))"
   ],
   "id": "ea005adba10552e7",
   "outputs": [
    {
     "name": "stdout",
     "output_type": "stream",
     "text": [
      "383 383\n",
      "96 96\n"
     ]
    }
   ],
   "execution_count": 435
  },
  {
   "metadata": {
    "ExecuteTime": {
     "end_time": "2024-06-22T18:06:35.315484Z",
     "start_time": "2024-06-22T18:06:35.307892Z"
    }
   },
   "cell_type": "code",
   "source": [
    "# Create a DataLoader\n",
    "# train_data = TensorDataset(X_train, y_train)\n",
    "# train_loader = DataLoader(train_data, batch_size=10)\n",
    "\n",
    "# Define your neural network architecture\n",
    "class WeatherNetV1(nn.Module):\n",
    "    def __init__(self, in_features=X_train.shape[1], out_features=len(dataset['condition_text'].unique())):\n",
    "        super().__init__()\n",
    "        self.layer_1 = nn.Linear(in_features, 64)\n",
    "        self.layer_2 = nn.Linear(64, 32)\n",
    "        self.layer_3 = nn.Linear(32, out_features)\n",
    "\n",
    "    def forward(self, x_):\n",
    "        x_ = torch.relu(self.layer_1(x_))\n",
    "        x_ = torch.relu(self.layer_2(x_))\n",
    "        x_ = self.layer_3(x_)\n",
    "        return x_\n",
    "\n",
    "class WeatherNetV2(nn.Module):\n",
    "    def __init__(self, input_shape: int, hidden_units: int, output_shape: int):\n",
    "        super().__init__()\n",
    "        self.layer_stack = nn.Sequential(\n",
    "            nn.Linear(input_shape, hidden_units),\n",
    "            nn.Sigmoid(),\n",
    "            nn.Linear(hidden_units, hidden_units),\n",
    "            nn.Sigmoid(),\n",
    "            nn.Linear(hidden_units, output_shape),\n",
    "        )\n",
    "\n",
    "    def forward(self, x):\n",
    "        return self.layer_stack(x)\n"
   ],
   "id": "823423295def9521",
   "outputs": [],
   "execution_count": 436
  },
  {
   "metadata": {
    "ExecuteTime": {
     "end_time": "2024-06-22T18:06:35.346089Z",
     "start_time": "2024-06-22T18:06:35.339465Z"
    }
   },
   "cell_type": "code",
   "source": [
    "# model = WeatherNetV1()\n",
    "model = WeatherNetV2(X_train.shape[1], 128, len(dataset['condition_text'].unique()))\n",
    "# Define a loss function and an optimizer\n",
    "lossFn = nn.CrossEntropyLoss()\n",
    "optimizer = optim.Adam(model.parameters(), lr=0.005)\n"
   ],
   "id": "614a54d23bfd629a",
   "outputs": [],
   "execution_count": 437
  },
  {
   "metadata": {
    "ExecuteTime": {
     "end_time": "2024-06-22T18:06:35.388280Z",
     "start_time": "2024-06-22T18:06:35.385305Z"
    }
   },
   "cell_type": "code",
   "source": [
    "def accuracy_fn(y_true, y_pred):\n",
    "    \"\"\"Calculates accuracy between truth labels and predictions.\n",
    "\n",
    "    Args:\n",
    "        y_true (torch.Tensor): Truth labels for predictions.\n",
    "        y_pred (torch.Tensor): Predictions to be compared to predictions.\n",
    "\n",
    "    Returns:\n",
    "        [torch.float]: Accuracy value between y_true and y_pred, e.g. 78.45\n",
    "    \"\"\"\n",
    "    corr = torch.eq(y_true, y_pred).sum().item()\n",
    "    acc = (corr / len(y_pred)) * 100\n",
    "    return acc\n"
   ],
   "id": "355f11a5c5f4bf1e",
   "outputs": [],
   "execution_count": 438
  },
  {
   "metadata": {
    "ExecuteTime": {
     "end_time": "2024-06-22T18:06:35.409802Z",
     "start_time": "2024-06-22T18:06:35.398523Z"
    }
   },
   "cell_type": "code",
   "source": [
    "logits = model(X_train).squeeze()\n",
    "print(logits)\n",
    "output = torch.sigmoid(logits)\n",
    "print(output)\n",
    "print(output.argmax(dim=1))\n"
   ],
   "id": "ccef8162d8b16ddd",
   "outputs": [
    {
     "name": "stdout",
     "output_type": "stream",
     "text": [
      "tensor([[-0.0014,  0.0558, -0.3578,  ..., -0.4728, -0.0492, -0.4628],\n",
      "        [-0.0049,  0.0385, -0.3533,  ..., -0.4575, -0.0409, -0.4701],\n",
      "        [-0.0083,  0.0438, -0.3351,  ..., -0.4640, -0.0506, -0.4755],\n",
      "        ...,\n",
      "        [-0.0175,  0.0462, -0.3285,  ..., -0.4548, -0.0320, -0.4844],\n",
      "        [ 0.0136,  0.0679, -0.3637,  ..., -0.4689, -0.0651, -0.4565],\n",
      "        [ 0.0096,  0.0657, -0.3455,  ..., -0.4918, -0.0643, -0.4772]],\n",
      "       grad_fn=<SqueezeBackward0>)\n",
      "tensor([[0.4997, 0.5140, 0.4115,  ..., 0.3840, 0.4877, 0.3863],\n",
      "        [0.4988, 0.5096, 0.4126,  ..., 0.3876, 0.4898, 0.3846],\n",
      "        [0.4979, 0.5110, 0.4170,  ..., 0.3860, 0.4873, 0.3833],\n",
      "        ...,\n",
      "        [0.4956, 0.5116, 0.4186,  ..., 0.3882, 0.4920, 0.3812],\n",
      "        [0.5034, 0.5170, 0.4101,  ..., 0.3849, 0.4837, 0.3878],\n",
      "        [0.5024, 0.5164, 0.4145,  ..., 0.3795, 0.4839, 0.3829]],\n",
      "       grad_fn=<SigmoidBackward0>)\n",
      "tensor([3, 3, 3, 3, 3, 3, 3, 3, 3, 3, 3, 3, 3, 3, 3, 3, 3, 3, 3, 3, 3, 3, 3, 3,\n",
      "        3, 3, 3, 3, 3, 3, 3, 3, 3, 3, 3, 3, 3, 3, 3, 3, 3, 3, 3, 3, 3, 3, 3, 3,\n",
      "        3, 3, 3, 3, 3, 3, 3, 3, 3, 3, 3, 3, 3, 3, 3, 3, 3, 3, 3, 3, 3, 3, 3, 3,\n",
      "        3, 3, 3, 3, 3, 3, 3, 3, 3, 3, 3, 3, 3, 3, 3, 3, 3, 3, 3, 3, 3, 3, 3, 3,\n",
      "        3, 3, 3, 3, 3, 3, 3, 3, 3, 3, 3, 3, 3, 3, 3, 3, 3, 3, 3, 3, 3, 3, 3, 3,\n",
      "        3, 3, 3, 3, 3, 3, 3, 3, 3, 3, 3, 3, 3, 3, 3, 3, 3, 3, 3, 3, 3, 3, 3, 3,\n",
      "        3, 3, 3, 3, 3, 3, 3, 3, 3, 3, 3, 3, 3, 3, 3, 3, 3, 3, 3, 3, 3, 3, 3, 3,\n",
      "        3, 3, 3, 3, 3, 3, 3, 3, 3, 3, 3, 3, 3, 3, 3, 3, 3, 3, 3, 3, 3, 3, 3, 3,\n",
      "        3, 3, 3, 3, 3, 3, 3, 3, 3, 3, 3, 3, 3, 3, 3, 3, 3, 3, 3, 3, 3, 3, 3, 3,\n",
      "        3, 3, 3, 3, 3, 3, 3, 3, 3, 3, 3, 3, 3, 3, 3, 3, 3, 3, 3, 3, 3, 3, 3, 3,\n",
      "        3, 3, 3, 3, 3, 3, 3, 3, 3, 3, 3, 3, 3, 3, 3, 3, 3, 3, 3, 3, 3, 3, 3, 3,\n",
      "        3, 3, 3, 3, 3, 3, 3, 3, 3, 3, 3, 3, 3, 3, 3, 3, 3, 3, 3, 3, 3, 3, 3, 3,\n",
      "        3, 3, 3, 3, 3, 3, 3, 3, 3, 3, 3, 3, 3, 3, 3, 3, 3, 3, 3, 3, 3, 3, 3, 3,\n",
      "        3, 3, 3, 3, 3, 3, 3, 3, 3, 3, 3, 3, 3, 3, 3, 3, 3, 3, 3, 3, 3, 3, 3, 3,\n",
      "        3, 3, 3, 3, 3, 3, 3, 3, 3, 3, 3, 3, 3, 3, 3, 3, 3, 3, 3, 3, 3, 3, 3, 3,\n",
      "        3, 3, 3, 3, 3, 3, 3, 3, 3, 3, 3, 3, 3, 3, 3, 3, 3, 3, 3, 3, 3, 3, 3])\n"
     ]
    }
   ],
   "execution_count": 439
  },
  {
   "metadata": {
    "ExecuteTime": {
     "end_time": "2024-06-22T18:06:35.422240Z",
     "start_time": "2024-06-22T18:06:35.415198Z"
    }
   },
   "cell_type": "code",
   "source": [
    "# l = lossFn(model(X_train), y_train)\n",
    "y_train = y_train.type(torch.int64)\n",
    "l = lossFn(model(X_train), y_train)\n",
    "print(X_train.shape, X_train.dtype)\n",
    "print(y_train.shape, y_train.dtype)"
   ],
   "id": "bd32d976c0afad15",
   "outputs": [
    {
     "name": "stdout",
     "output_type": "stream",
     "text": [
      "torch.Size([383, 8]) torch.float32\n",
      "torch.Size([383]) torch.int64\n"
     ]
    }
   ],
   "execution_count": 440
  },
  {
   "metadata": {},
   "cell_type": "markdown",
   "source": "**BATCH TRAIN**",
   "id": "b4e663c10a9d7ecc"
  },
  {
   "metadata": {
    "ExecuteTime": {
     "end_time": "2024-06-22T18:06:35.433495Z",
     "start_time": "2024-06-22T18:06:35.429225Z"
    }
   },
   "cell_type": "code",
   "source": [
    "# torch.manual_seed(42)\n",
    "# \n",
    "# # Train your model\n",
    "# for epoch in range(50):\n",
    "#     for batch in train_loader:\n",
    "#         X_batch, y_batch = batch\n",
    "#         optimizer.zero_grad()\n",
    "#         output = model(X_batch)\n",
    "#         loss = criterion(output, y_batch)\n",
    "#         loss.backward()\n",
    "#         optimizer.step()\n",
    "# \n",
    "# # Evaluate your model\n",
    "# with torch.no_grad():\n",
    "#     output = model(X_test)\n",
    "#     _, predicted = torch.max(output, 1)\n",
    "#     correct = (predicted == y_test).sum().item()\n",
    "#     print('Accuracy: %.2f' % (correct / len(y_test) * 100))"
   ],
   "id": "86f987ff8beffe7a",
   "outputs": [],
   "execution_count": 441
  },
  {
   "metadata": {},
   "cell_type": "markdown",
   "source": "**WITHOUT BATCH**",
   "id": "c81c1091c84a8fe7"
  },
  {
   "metadata": {
    "ExecuteTime": {
     "end_time": "2024-06-22T18:06:36.217312Z",
     "start_time": "2024-06-22T18:06:35.494761Z"
    }
   },
   "cell_type": "code",
   "source": [
    "torch.manual_seed(42)\n",
    "\n",
    "device = 'cpu'\n",
    "\n",
    "X_train, y_train = X_train.to(device), y_train.to(device).type(torch.int64)\n",
    "X_test, y_test = X_test.to(device), y_test.to(device).type(torch.int64)\n",
    "\n",
    "epochs = 150\n",
    "\n",
    "print(y_train.dtype)\n",
    "\n",
    "for epoch in range(epochs):\n",
    "    model.train()\n",
    "    \n",
    "    output = model(X_train)\n",
    "    y_logits = output.squeeze()\n",
    "    \n",
    "    #y_logits_ = y_logits.type(torch.long)\n",
    "    \n",
    "    y_pred = torch.sigmoid(y_logits).argmax(dim=1)\n",
    "    \n",
    "\n",
    "    loss = lossFn(y_logits, y_train)\n",
    "    acc = accuracy_fn(y_train, y_pred)\n",
    "    \n",
    "    optimizer.zero_grad()\n",
    "    loss.backward()\n",
    "    optimizer.step()\n",
    "\n",
    "    model.eval()\n",
    "    with torch.inference_mode():\n",
    "        test_output = model(X_test)\n",
    "        test_logits = test_output.squeeze()\n",
    "        test_pred = torch.sigmoid(test_logits).argmax(dim=1)\n",
    "        \n",
    "        test_loss = lossFn(test_logits, y_test)\n",
    "        test_acc = accuracy_fn(y_test, test_pred)\n",
    "        \n",
    "        print(f'Epoch {epoch + 1}/{epochs} | Train Loss: {loss:.4f} | Train Accuracy: {acc:.2f}% | Test Loss: {test_loss:.4f} | Test Accuracy: {test_acc:.2f}%')\n",
    "    # if epoch % 10 == 0:\n",
    "    #     with torch.no_grad():\n",
    "    #         output = model(X_test)\n",
    "    #         predicted = torch.max(output, 1)\n",
    "    #         correct = (predicted == y_test).sum().item()\n",
    "    #         print('Accuracy: %.2f' % (correct / len(y_test) * 100))\n"
   ],
   "id": "b165b12b25af9d90",
   "outputs": [
    {
     "name": "stdout",
     "output_type": "stream",
     "text": [
      "torch.int64\n",
      "Epoch 1/150 | Train Loss: 2.1208 | Train Accuracy: 10.70% | Test Loss: 1.9704 | Test Accuracy: 27.08%\n",
      "Epoch 2/150 | Train Loss: 1.9251 | Train Accuracy: 25.07% | Test Loss: 1.9840 | Test Accuracy: 22.92%\n",
      "Epoch 3/150 | Train Loss: 1.9045 | Train Accuracy: 26.11% | Test Loss: 2.0249 | Test Accuracy: 22.92%\n",
      "Epoch 4/150 | Train Loss: 1.9188 | Train Accuracy: 26.11% | Test Loss: 2.0313 | Test Accuracy: 22.92%\n",
      "Epoch 5/150 | Train Loss: 1.9108 | Train Accuracy: 26.11% | Test Loss: 2.0172 | Test Accuracy: 22.92%\n",
      "Epoch 6/150 | Train Loss: 1.8925 | Train Accuracy: 26.11% | Test Loss: 2.0014 | Test Accuracy: 25.00%\n",
      "Epoch 7/150 | Train Loss: 1.8804 | Train Accuracy: 26.89% | Test Loss: 1.9850 | Test Accuracy: 29.17%\n",
      "Epoch 8/150 | Train Loss: 1.8733 | Train Accuracy: 32.11% | Test Loss: 1.9648 | Test Accuracy: 34.38%\n",
      "Epoch 9/150 | Train Loss: 1.8638 | Train Accuracy: 39.69% | Test Loss: 1.9409 | Test Accuracy: 38.54%\n",
      "Epoch 10/150 | Train Loss: 1.8492 | Train Accuracy: 41.51% | Test Loss: 1.9174 | Test Accuracy: 38.54%\n",
      "Epoch 11/150 | Train Loss: 1.8325 | Train Accuracy: 41.78% | Test Loss: 1.8980 | Test Accuracy: 37.50%\n",
      "Epoch 12/150 | Train Loss: 1.8169 | Train Accuracy: 41.51% | Test Loss: 1.8838 | Test Accuracy: 36.46%\n",
      "Epoch 13/150 | Train Loss: 1.8035 | Train Accuracy: 39.95% | Test Loss: 1.8735 | Test Accuracy: 35.42%\n",
      "Epoch 14/150 | Train Loss: 1.7913 | Train Accuracy: 38.90% | Test Loss: 1.8646 | Test Accuracy: 34.38%\n",
      "Epoch 15/150 | Train Loss: 1.7787 | Train Accuracy: 38.12% | Test Loss: 1.8552 | Test Accuracy: 34.38%\n",
      "Epoch 16/150 | Train Loss: 1.7642 | Train Accuracy: 37.86% | Test Loss: 1.8441 | Test Accuracy: 34.38%\n",
      "Epoch 17/150 | Train Loss: 1.7472 | Train Accuracy: 38.38% | Test Loss: 1.8308 | Test Accuracy: 35.42%\n",
      "Epoch 18/150 | Train Loss: 1.7279 | Train Accuracy: 38.90% | Test Loss: 1.8157 | Test Accuracy: 36.46%\n",
      "Epoch 19/150 | Train Loss: 1.7067 | Train Accuracy: 39.69% | Test Loss: 1.7991 | Test Accuracy: 36.46%\n",
      "Epoch 20/150 | Train Loss: 1.6844 | Train Accuracy: 42.56% | Test Loss: 1.7813 | Test Accuracy: 36.46%\n",
      "Epoch 21/150 | Train Loss: 1.6613 | Train Accuracy: 43.08% | Test Loss: 1.7622 | Test Accuracy: 36.46%\n",
      "Epoch 22/150 | Train Loss: 1.6375 | Train Accuracy: 44.39% | Test Loss: 1.7419 | Test Accuracy: 37.50%\n",
      "Epoch 23/150 | Train Loss: 1.6128 | Train Accuracy: 44.91% | Test Loss: 1.7203 | Test Accuracy: 36.46%\n",
      "Epoch 24/150 | Train Loss: 1.5874 | Train Accuracy: 44.91% | Test Loss: 1.6979 | Test Accuracy: 37.50%\n",
      "Epoch 25/150 | Train Loss: 1.5613 | Train Accuracy: 45.43% | Test Loss: 1.6747 | Test Accuracy: 37.50%\n",
      "Epoch 26/150 | Train Loss: 1.5347 | Train Accuracy: 45.69% | Test Loss: 1.6511 | Test Accuracy: 36.46%\n",
      "Epoch 27/150 | Train Loss: 1.5077 | Train Accuracy: 47.26% | Test Loss: 1.6274 | Test Accuracy: 37.50%\n",
      "Epoch 28/150 | Train Loss: 1.4808 | Train Accuracy: 47.52% | Test Loss: 1.6038 | Test Accuracy: 38.54%\n",
      "Epoch 29/150 | Train Loss: 1.4543 | Train Accuracy: 48.83% | Test Loss: 1.5804 | Test Accuracy: 39.58%\n",
      "Epoch 30/150 | Train Loss: 1.4284 | Train Accuracy: 49.61% | Test Loss: 1.5570 | Test Accuracy: 40.62%\n",
      "Epoch 31/150 | Train Loss: 1.4030 | Train Accuracy: 52.48% | Test Loss: 1.5336 | Test Accuracy: 40.62%\n",
      "Epoch 32/150 | Train Loss: 1.3779 | Train Accuracy: 55.35% | Test Loss: 1.5102 | Test Accuracy: 43.75%\n",
      "Epoch 33/150 | Train Loss: 1.3530 | Train Accuracy: 56.92% | Test Loss: 1.4876 | Test Accuracy: 44.79%\n",
      "Epoch 34/150 | Train Loss: 1.3287 | Train Accuracy: 58.22% | Test Loss: 1.4666 | Test Accuracy: 44.79%\n",
      "Epoch 35/150 | Train Loss: 1.3053 | Train Accuracy: 58.49% | Test Loss: 1.4477 | Test Accuracy: 45.83%\n",
      "Epoch 36/150 | Train Loss: 1.2831 | Train Accuracy: 59.27% | Test Loss: 1.4312 | Test Accuracy: 47.92%\n",
      "Epoch 37/150 | Train Loss: 1.2620 | Train Accuracy: 58.75% | Test Loss: 1.4173 | Test Accuracy: 50.00%\n",
      "Epoch 38/150 | Train Loss: 1.2419 | Train Accuracy: 59.79% | Test Loss: 1.4056 | Test Accuracy: 48.96%\n",
      "Epoch 39/150 | Train Loss: 1.2228 | Train Accuracy: 61.10% | Test Loss: 1.3958 | Test Accuracy: 48.96%\n",
      "Epoch 40/150 | Train Loss: 1.2048 | Train Accuracy: 61.10% | Test Loss: 1.3872 | Test Accuracy: 48.96%\n",
      "Epoch 41/150 | Train Loss: 1.1880 | Train Accuracy: 61.62% | Test Loss: 1.3785 | Test Accuracy: 50.00%\n",
      "Epoch 42/150 | Train Loss: 1.1723 | Train Accuracy: 61.62% | Test Loss: 1.3690 | Test Accuracy: 51.04%\n",
      "Epoch 43/150 | Train Loss: 1.1575 | Train Accuracy: 61.88% | Test Loss: 1.3586 | Test Accuracy: 51.04%\n",
      "Epoch 44/150 | Train Loss: 1.1438 | Train Accuracy: 61.62% | Test Loss: 1.3481 | Test Accuracy: 51.04%\n",
      "Epoch 45/150 | Train Loss: 1.1312 | Train Accuracy: 62.40% | Test Loss: 1.3384 | Test Accuracy: 52.08%\n",
      "Epoch 46/150 | Train Loss: 1.1198 | Train Accuracy: 62.66% | Test Loss: 1.3305 | Test Accuracy: 52.08%\n",
      "Epoch 47/150 | Train Loss: 1.1094 | Train Accuracy: 62.14% | Test Loss: 1.3246 | Test Accuracy: 53.12%\n",
      "Epoch 48/150 | Train Loss: 1.0995 | Train Accuracy: 62.40% | Test Loss: 1.3203 | Test Accuracy: 53.12%\n",
      "Epoch 49/150 | Train Loss: 1.0901 | Train Accuracy: 62.92% | Test Loss: 1.3170 | Test Accuracy: 53.12%\n",
      "Epoch 50/150 | Train Loss: 1.0814 | Train Accuracy: 62.92% | Test Loss: 1.3139 | Test Accuracy: 52.08%\n",
      "Epoch 51/150 | Train Loss: 1.0732 | Train Accuracy: 63.45% | Test Loss: 1.3101 | Test Accuracy: 52.08%\n",
      "Epoch 52/150 | Train Loss: 1.0655 | Train Accuracy: 63.19% | Test Loss: 1.3058 | Test Accuracy: 53.12%\n",
      "Epoch 53/150 | Train Loss: 1.0581 | Train Accuracy: 63.45% | Test Loss: 1.3014 | Test Accuracy: 55.21%\n",
      "Epoch 54/150 | Train Loss: 1.0510 | Train Accuracy: 63.71% | Test Loss: 1.2972 | Test Accuracy: 55.21%\n",
      "Epoch 55/150 | Train Loss: 1.0442 | Train Accuracy: 63.45% | Test Loss: 1.2938 | Test Accuracy: 55.21%\n",
      "Epoch 56/150 | Train Loss: 1.0375 | Train Accuracy: 63.45% | Test Loss: 1.2911 | Test Accuracy: 55.21%\n",
      "Epoch 57/150 | Train Loss: 1.0311 | Train Accuracy: 63.97% | Test Loss: 1.2889 | Test Accuracy: 55.21%\n",
      "Epoch 58/150 | Train Loss: 1.0248 | Train Accuracy: 63.97% | Test Loss: 1.2868 | Test Accuracy: 56.25%\n",
      "Epoch 59/150 | Train Loss: 1.0188 | Train Accuracy: 63.97% | Test Loss: 1.2845 | Test Accuracy: 58.33%\n",
      "Epoch 60/150 | Train Loss: 1.0131 | Train Accuracy: 64.49% | Test Loss: 1.2817 | Test Accuracy: 58.33%\n",
      "Epoch 61/150 | Train Loss: 1.0075 | Train Accuracy: 64.49% | Test Loss: 1.2784 | Test Accuracy: 59.38%\n",
      "Epoch 62/150 | Train Loss: 1.0021 | Train Accuracy: 64.49% | Test Loss: 1.2746 | Test Accuracy: 59.38%\n",
      "Epoch 63/150 | Train Loss: 0.9969 | Train Accuracy: 64.75% | Test Loss: 1.2703 | Test Accuracy: 59.38%\n",
      "Epoch 64/150 | Train Loss: 0.9919 | Train Accuracy: 64.75% | Test Loss: 1.2658 | Test Accuracy: 58.33%\n",
      "Epoch 65/150 | Train Loss: 0.9870 | Train Accuracy: 65.80% | Test Loss: 1.2612 | Test Accuracy: 58.33%\n",
      "Epoch 66/150 | Train Loss: 0.9823 | Train Accuracy: 66.06% | Test Loss: 1.2566 | Test Accuracy: 60.42%\n",
      "Epoch 67/150 | Train Loss: 0.9777 | Train Accuracy: 66.84% | Test Loss: 1.2522 | Test Accuracy: 60.42%\n",
      "Epoch 68/150 | Train Loss: 0.9733 | Train Accuracy: 67.36% | Test Loss: 1.2480 | Test Accuracy: 60.42%\n",
      "Epoch 69/150 | Train Loss: 0.9690 | Train Accuracy: 67.62% | Test Loss: 1.2439 | Test Accuracy: 60.42%\n",
      "Epoch 70/150 | Train Loss: 0.9647 | Train Accuracy: 67.10% | Test Loss: 1.2399 | Test Accuracy: 60.42%\n",
      "Epoch 71/150 | Train Loss: 0.9606 | Train Accuracy: 67.62% | Test Loss: 1.2362 | Test Accuracy: 61.46%\n",
      "Epoch 72/150 | Train Loss: 0.9566 | Train Accuracy: 68.15% | Test Loss: 1.2331 | Test Accuracy: 61.46%\n",
      "Epoch 73/150 | Train Loss: 0.9527 | Train Accuracy: 68.67% | Test Loss: 1.2308 | Test Accuracy: 61.46%\n",
      "Epoch 74/150 | Train Loss: 0.9488 | Train Accuracy: 68.41% | Test Loss: 1.2296 | Test Accuracy: 61.46%\n",
      "Epoch 75/150 | Train Loss: 0.9450 | Train Accuracy: 68.15% | Test Loss: 1.2289 | Test Accuracy: 61.46%\n",
      "Epoch 76/150 | Train Loss: 0.9412 | Train Accuracy: 68.15% | Test Loss: 1.2284 | Test Accuracy: 61.46%\n",
      "Epoch 77/150 | Train Loss: 0.9375 | Train Accuracy: 68.41% | Test Loss: 1.2275 | Test Accuracy: 61.46%\n",
      "Epoch 78/150 | Train Loss: 0.9338 | Train Accuracy: 68.67% | Test Loss: 1.2262 | Test Accuracy: 62.50%\n",
      "Epoch 79/150 | Train Loss: 0.9302 | Train Accuracy: 68.67% | Test Loss: 1.2245 | Test Accuracy: 62.50%\n",
      "Epoch 80/150 | Train Loss: 0.9266 | Train Accuracy: 68.93% | Test Loss: 1.2230 | Test Accuracy: 62.50%\n",
      "Epoch 81/150 | Train Loss: 0.9230 | Train Accuracy: 69.45% | Test Loss: 1.2217 | Test Accuracy: 61.46%\n",
      "Epoch 82/150 | Train Loss: 0.9195 | Train Accuracy: 69.71% | Test Loss: 1.2206 | Test Accuracy: 62.50%\n",
      "Epoch 83/150 | Train Loss: 0.9161 | Train Accuracy: 69.71% | Test Loss: 1.2196 | Test Accuracy: 62.50%\n",
      "Epoch 84/150 | Train Loss: 0.9126 | Train Accuracy: 69.71% | Test Loss: 1.2183 | Test Accuracy: 62.50%\n",
      "Epoch 85/150 | Train Loss: 0.9092 | Train Accuracy: 69.97% | Test Loss: 1.2167 | Test Accuracy: 62.50%\n",
      "Epoch 86/150 | Train Loss: 0.9058 | Train Accuracy: 69.97% | Test Loss: 1.2150 | Test Accuracy: 62.50%\n",
      "Epoch 87/150 | Train Loss: 0.9024 | Train Accuracy: 69.71% | Test Loss: 1.2133 | Test Accuracy: 62.50%\n",
      "Epoch 88/150 | Train Loss: 0.8991 | Train Accuracy: 70.23% | Test Loss: 1.2118 | Test Accuracy: 63.54%\n",
      "Epoch 89/150 | Train Loss: 0.8957 | Train Accuracy: 70.23% | Test Loss: 1.2102 | Test Accuracy: 63.54%\n",
      "Epoch 90/150 | Train Loss: 0.8924 | Train Accuracy: 71.02% | Test Loss: 1.2086 | Test Accuracy: 63.54%\n",
      "Epoch 91/150 | Train Loss: 0.8891 | Train Accuracy: 71.28% | Test Loss: 1.2067 | Test Accuracy: 63.54%\n",
      "Epoch 92/150 | Train Loss: 0.8858 | Train Accuracy: 71.28% | Test Loss: 1.2047 | Test Accuracy: 63.54%\n",
      "Epoch 93/150 | Train Loss: 0.8826 | Train Accuracy: 71.02% | Test Loss: 1.2028 | Test Accuracy: 63.54%\n",
      "Epoch 94/150 | Train Loss: 0.8793 | Train Accuracy: 71.02% | Test Loss: 1.2010 | Test Accuracy: 63.54%\n",
      "Epoch 95/150 | Train Loss: 0.8761 | Train Accuracy: 71.02% | Test Loss: 1.1994 | Test Accuracy: 63.54%\n",
      "Epoch 96/150 | Train Loss: 0.8729 | Train Accuracy: 71.02% | Test Loss: 1.1979 | Test Accuracy: 63.54%\n",
      "Epoch 97/150 | Train Loss: 0.8697 | Train Accuracy: 71.02% | Test Loss: 1.1964 | Test Accuracy: 63.54%\n",
      "Epoch 98/150 | Train Loss: 0.8665 | Train Accuracy: 71.54% | Test Loss: 1.1947 | Test Accuracy: 63.54%\n",
      "Epoch 99/150 | Train Loss: 0.8633 | Train Accuracy: 71.54% | Test Loss: 1.1929 | Test Accuracy: 63.54%\n",
      "Epoch 100/150 | Train Loss: 0.8602 | Train Accuracy: 71.80% | Test Loss: 1.1911 | Test Accuracy: 63.54%\n",
      "Epoch 101/150 | Train Loss: 0.8571 | Train Accuracy: 71.54% | Test Loss: 1.1893 | Test Accuracy: 63.54%\n",
      "Epoch 102/150 | Train Loss: 0.8540 | Train Accuracy: 71.02% | Test Loss: 1.1877 | Test Accuracy: 63.54%\n",
      "Epoch 103/150 | Train Loss: 0.8509 | Train Accuracy: 71.02% | Test Loss: 1.1861 | Test Accuracy: 63.54%\n",
      "Epoch 104/150 | Train Loss: 0.8478 | Train Accuracy: 71.02% | Test Loss: 1.1846 | Test Accuracy: 63.54%\n",
      "Epoch 105/150 | Train Loss: 0.8447 | Train Accuracy: 71.02% | Test Loss: 1.1831 | Test Accuracy: 63.54%\n",
      "Epoch 106/150 | Train Loss: 0.8417 | Train Accuracy: 71.02% | Test Loss: 1.1816 | Test Accuracy: 63.54%\n",
      "Epoch 107/150 | Train Loss: 0.8387 | Train Accuracy: 71.02% | Test Loss: 1.1801 | Test Accuracy: 63.54%\n",
      "Epoch 108/150 | Train Loss: 0.8357 | Train Accuracy: 71.28% | Test Loss: 1.1785 | Test Accuracy: 63.54%\n",
      "Epoch 109/150 | Train Loss: 0.8328 | Train Accuracy: 71.54% | Test Loss: 1.1771 | Test Accuracy: 63.54%\n",
      "Epoch 110/150 | Train Loss: 0.8298 | Train Accuracy: 71.54% | Test Loss: 1.1757 | Test Accuracy: 63.54%\n",
      "Epoch 111/150 | Train Loss: 0.8269 | Train Accuracy: 72.06% | Test Loss: 1.1745 | Test Accuracy: 63.54%\n",
      "Epoch 112/150 | Train Loss: 0.8240 | Train Accuracy: 71.80% | Test Loss: 1.1735 | Test Accuracy: 63.54%\n",
      "Epoch 113/150 | Train Loss: 0.8211 | Train Accuracy: 71.80% | Test Loss: 1.1725 | Test Accuracy: 63.54%\n",
      "Epoch 114/150 | Train Loss: 0.8183 | Train Accuracy: 71.80% | Test Loss: 1.1715 | Test Accuracy: 63.54%\n",
      "Epoch 115/150 | Train Loss: 0.8154 | Train Accuracy: 72.06% | Test Loss: 1.1706 | Test Accuracy: 63.54%\n",
      "Epoch 116/150 | Train Loss: 0.8126 | Train Accuracy: 72.58% | Test Loss: 1.1699 | Test Accuracy: 63.54%\n",
      "Epoch 117/150 | Train Loss: 0.8098 | Train Accuracy: 73.11% | Test Loss: 1.1693 | Test Accuracy: 63.54%\n",
      "Epoch 118/150 | Train Loss: 0.8071 | Train Accuracy: 72.85% | Test Loss: 1.1687 | Test Accuracy: 63.54%\n",
      "Epoch 119/150 | Train Loss: 0.8043 | Train Accuracy: 73.11% | Test Loss: 1.1683 | Test Accuracy: 63.54%\n",
      "Epoch 120/150 | Train Loss: 0.8016 | Train Accuracy: 73.11% | Test Loss: 1.1679 | Test Accuracy: 63.54%\n",
      "Epoch 121/150 | Train Loss: 0.7989 | Train Accuracy: 73.11% | Test Loss: 1.1676 | Test Accuracy: 63.54%\n",
      "Epoch 122/150 | Train Loss: 0.7962 | Train Accuracy: 73.37% | Test Loss: 1.1674 | Test Accuracy: 63.54%\n",
      "Epoch 123/150 | Train Loss: 0.7935 | Train Accuracy: 73.63% | Test Loss: 1.1673 | Test Accuracy: 63.54%\n",
      "Epoch 124/150 | Train Loss: 0.7908 | Train Accuracy: 73.37% | Test Loss: 1.1673 | Test Accuracy: 64.58%\n",
      "Epoch 125/150 | Train Loss: 0.7882 | Train Accuracy: 73.89% | Test Loss: 1.1674 | Test Accuracy: 64.58%\n",
      "Epoch 126/150 | Train Loss: 0.7855 | Train Accuracy: 74.15% | Test Loss: 1.1674 | Test Accuracy: 64.58%\n",
      "Epoch 127/150 | Train Loss: 0.7829 | Train Accuracy: 74.15% | Test Loss: 1.1674 | Test Accuracy: 64.58%\n",
      "Epoch 128/150 | Train Loss: 0.7802 | Train Accuracy: 74.15% | Test Loss: 1.1674 | Test Accuracy: 64.58%\n",
      "Epoch 129/150 | Train Loss: 0.7776 | Train Accuracy: 74.41% | Test Loss: 1.1675 | Test Accuracy: 65.62%\n",
      "Epoch 130/150 | Train Loss: 0.7750 | Train Accuracy: 74.93% | Test Loss: 1.1676 | Test Accuracy: 65.62%\n",
      "Epoch 131/150 | Train Loss: 0.7723 | Train Accuracy: 74.67% | Test Loss: 1.1678 | Test Accuracy: 65.62%\n",
      "Epoch 132/150 | Train Loss: 0.7697 | Train Accuracy: 74.93% | Test Loss: 1.1679 | Test Accuracy: 65.62%\n",
      "Epoch 133/150 | Train Loss: 0.7671 | Train Accuracy: 74.67% | Test Loss: 1.1680 | Test Accuracy: 66.67%\n",
      "Epoch 134/150 | Train Loss: 0.7644 | Train Accuracy: 74.67% | Test Loss: 1.1681 | Test Accuracy: 66.67%\n",
      "Epoch 135/150 | Train Loss: 0.7618 | Train Accuracy: 74.93% | Test Loss: 1.1682 | Test Accuracy: 66.67%\n",
      "Epoch 136/150 | Train Loss: 0.7591 | Train Accuracy: 74.93% | Test Loss: 1.1683 | Test Accuracy: 66.67%\n",
      "Epoch 137/150 | Train Loss: 0.7565 | Train Accuracy: 74.93% | Test Loss: 1.1685 | Test Accuracy: 66.67%\n",
      "Epoch 138/150 | Train Loss: 0.7538 | Train Accuracy: 74.67% | Test Loss: 1.1687 | Test Accuracy: 66.67%\n",
      "Epoch 139/150 | Train Loss: 0.7512 | Train Accuracy: 74.67% | Test Loss: 1.1688 | Test Accuracy: 66.67%\n",
      "Epoch 140/150 | Train Loss: 0.7485 | Train Accuracy: 74.67% | Test Loss: 1.1689 | Test Accuracy: 66.67%\n",
      "Epoch 141/150 | Train Loss: 0.7459 | Train Accuracy: 74.41% | Test Loss: 1.1689 | Test Accuracy: 66.67%\n",
      "Epoch 142/150 | Train Loss: 0.7432 | Train Accuracy: 74.41% | Test Loss: 1.1690 | Test Accuracy: 66.67%\n",
      "Epoch 143/150 | Train Loss: 0.7405 | Train Accuracy: 74.41% | Test Loss: 1.1690 | Test Accuracy: 66.67%\n",
      "Epoch 144/150 | Train Loss: 0.7379 | Train Accuracy: 74.41% | Test Loss: 1.1690 | Test Accuracy: 66.67%\n",
      "Epoch 145/150 | Train Loss: 0.7352 | Train Accuracy: 74.41% | Test Loss: 1.1690 | Test Accuracy: 66.67%\n",
      "Epoch 146/150 | Train Loss: 0.7325 | Train Accuracy: 74.41% | Test Loss: 1.1690 | Test Accuracy: 66.67%\n",
      "Epoch 147/150 | Train Loss: 0.7298 | Train Accuracy: 74.15% | Test Loss: 1.1691 | Test Accuracy: 66.67%\n",
      "Epoch 148/150 | Train Loss: 0.7271 | Train Accuracy: 73.89% | Test Loss: 1.1691 | Test Accuracy: 66.67%\n",
      "Epoch 149/150 | Train Loss: 0.7243 | Train Accuracy: 74.67% | Test Loss: 1.1692 | Test Accuracy: 66.67%\n",
      "Epoch 150/150 | Train Loss: 0.7216 | Train Accuracy: 74.67% | Test Loss: 1.1693 | Test Accuracy: 66.67%\n"
     ]
    }
   ],
   "execution_count": 442
  }
 ],
 "metadata": {
  "kernelspec": {
   "display_name": "Python 3",
   "language": "python",
   "name": "python3"
  },
  "language_info": {
   "codemirror_mode": {
    "name": "ipython",
    "version": 2
   },
   "file_extension": ".py",
   "mimetype": "text/x-python",
   "name": "python",
   "nbconvert_exporter": "python",
   "pygments_lexer": "ipython2",
   "version": "2.7.6"
  }
 },
 "nbformat": 4,
 "nbformat_minor": 5
}
